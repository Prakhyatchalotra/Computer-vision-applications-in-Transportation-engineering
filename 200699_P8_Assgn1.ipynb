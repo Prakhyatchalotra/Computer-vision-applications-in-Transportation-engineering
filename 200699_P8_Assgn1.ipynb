{
  "cells": [
    {
      "cell_type": "code",
      "execution_count": null,
      "metadata": {
        "id": "vAqabq9D64SH"
      },
      "outputs": [],
      "source": [
        "import numpy as np\n",
        "import pandas as pd\n",
        "import matplotlib.pyplot as plt\n",
        "from sklearn.model_selection import train_test_split\n",
        "import seaborn as sns\n",
        "% matplotlib inline"
      ]
    },
    {
      "cell_type": "code",
      "execution_count": null,
      "metadata": {
        "id": "J_-mSqKj6-CG"
      },
      "outputs": [],
      "source": [
        "# sheet_name = \"crack_detection\"\n",
        "# url = f\"https://docs.google.com/spreadsheets/d/12bgG2x16KMahiv3e5S_FA5mz9qO5ZaYpUaiDKCVUk9Q/edit#gid=2142103626={sheet_name}\"\n",
        "\n",
        "# data = pd.read_csv(url)\n",
        "data = pd.read_csv('/content/drive/MyDrive/crack_detection.csv')"
      ]
    },
    {
      "cell_type": "code",
      "execution_count": null,
      "metadata": {
        "id": "xr_cQss_6-Ez"
      },
      "outputs": [],
      "source": [
        "data"
      ]
    },
    {
      "cell_type": "code",
      "execution_count": null,
      "metadata": {
        "id": "ZpYG-Ir06-Ko"
      },
      "outputs": [],
      "source": [
        "X = data.iloc[:,:-1].values\n",
        "Y = data.iloc[:,-1:].values"
      ]
    },
    {
      "cell_type": "code",
      "execution_count": null,
      "metadata": {
        "colab": {
          "base_uri": "https://localhost:8080/"
        },
        "id": "rrw1q6Nj6-NN",
        "outputId": "2b31f440-c59c-4604-9ce0-4c6c76db7e61"
      },
      "outputs": [
        {
          "name": "stdout",
          "output_type": "stream",
          "text": [
            "[(700, 24), (700, 1)]\n"
          ]
        }
      ],
      "source": [
        "print([X.shape,Y.shape])"
      ]
    },
    {
      "cell_type": "code",
      "execution_count": null,
      "metadata": {
        "id": "TbUxe_Ru6-QU"
      },
      "outputs": [],
      "source": [
        "def normalize(X):\n",
        "  return (X - np.mean(X,axis = 0))/np.std(X,axis = 0)"
      ]
    },
    {
      "cell_type": "code",
      "execution_count": null,
      "metadata": {
        "id": "KgXhvRfH6-Tv"
      },
      "outputs": [],
      "source": [
        "X = normalize(X)"
      ]
    },
    {
      "cell_type": "code",
      "execution_count": null,
      "metadata": {
        "id": "DpGrnYYz6-Wk"
      },
      "outputs": [],
      "source": [
        "X_train, X_test, y_train, y_test = train_test_split(X, Y, test_size=0.4, random_state=42)"
      ]
    },
    {
      "cell_type": "code",
      "execution_count": null,
      "metadata": {
        "id": "DBhLZXiwD8r9"
      },
      "outputs": [],
      "source": [
        "X_test, X_val, y_test, y_val = train_test_split(X_test, y_test, test_size=0.5, random_state=42)"
      ]
    },
    {
      "cell_type": "code",
      "execution_count": null,
      "metadata": {
        "colab": {
          "base_uri": "https://localhost:8080/"
        },
        "id": "RBFAYe8bEIUf",
        "outputId": "91b521ad-7fb0-4e57-a03a-55620b6d7caf"
      },
      "outputs": [
        {
          "name": "stdout",
          "output_type": "stream",
          "text": [
            "[(140, 24), (140, 24)]\n"
          ]
        }
      ],
      "source": [
        "print([X_val.shape,X_test.shape])"
      ]
    },
    {
      "cell_type": "code",
      "execution_count": null,
      "metadata": {
        "colab": {
          "base_uri": "https://localhost:8080/"
        },
        "id": "PysJm9Mg6-Zs",
        "outputId": "18752cfb-7e3e-42aa-c272-732e039794b4"
      },
      "outputs": [
        {
          "name": "stdout",
          "output_type": "stream",
          "text": [
            "[(420, 24), (140, 24)]\n"
          ]
        }
      ],
      "source": [
        "print([X_train.shape,X_test.shape])"
      ]
    },
    {
      "cell_type": "code",
      "execution_count": null,
      "metadata": {
        "id": "LqfVqtBq6-dH"
      },
      "outputs": [],
      "source": [
        "def sigmoid(x):\n",
        "  return 1.0/(1+np.exp(-x))"
      ]
    },
    {
      "cell_type": "code",
      "execution_count": null,
      "metadata": {
        "id": "kH5Uu8wD6-gN"
      },
      "outputs": [],
      "source": [
        "def forward(X,W,b):\n",
        "  y = sigmoid(np.dot(X,W)+b)\n",
        "  return y"
      ]
    },
    {
      "cell_type": "code",
      "execution_count": null,
      "metadata": {
        "id": "W7bIkf4n6-jV"
      },
      "outputs": [],
      "source": [
        "def predict(X,W,b):\n",
        "  predicted = sigmoid(np.dot(X,W)+b)\n",
        "  y = np.where(predicted>0.5,1,0)\n",
        "  return y"
      ]
    },
    {
      "cell_type": "code",
      "execution_count": null,
      "metadata": {
        "id": "iUp4SED46-me"
      },
      "outputs": [],
      "source": [
        "def costFunct(y,y_hat):\n",
        "  l = -np.mean(np.log(y_hat)*y + np.log(1-y_hat)*(1-y))\n",
        "  return l"
      ]
    },
    {
      "cell_type": "code",
      "execution_count": null,
      "metadata": {
        "id": "WWMnHQ946-pl"
      },
      "outputs": [],
      "source": [
        "def gradient(X,Y,W,b):\n",
        "  m = X.shape[0]\n",
        "  y_hat = np.expand_dims(forward(X,W,b),axis =1)\n",
        "  dw = ((1/m)*np.dot(X.T, (y_hat - Y))).squeeze()\n",
        "  db = (1/m)*(np.sum((y_hat - Y)))\n",
        "  return dw,db"
      ]
    },
    {
      "cell_type": "markdown",
      "metadata": {
        "id": "SBu1NIbgNZrE"
      },
      "source": [
        "**Training function**:"
      ]
    },
    {
      "cell_type": "code",
      "execution_count": null,
      "metadata": {
        "id": "Rs-Qv3Rb6-s-"
      },
      "outputs": [],
      "source": [
        "def BinarylogRegClassifier(X,Y,num_iter,learning_rate=0.02):\n",
        "  m,n = X.shape\n",
        "  W = np.random.random((n))\n",
        "  b = np.random.random(1)\n",
        "  losses = []\n",
        "\n",
        "  for i in range(num_iter):\n",
        "    Y_hat = forward(X,W,b)\n",
        "    losses.append([i,costFunct(Y,Y_hat)])\n",
        "    dw,db = gradient(X,Y,W,b)\n",
        "    W -= learning_rate*dw\n",
        "    b -= learning_rate*db\n",
        "\n",
        "  return losses,W,b"
      ]
    },
    {
      "cell_type": "markdown",
      "metadata": {
        "id": "81lssgORNf0F"
      },
      "source": [
        "**Training process**:"
      ]
    },
    {
      "cell_type": "code",
      "execution_count": null,
      "metadata": {
        "id": "HiBbm1J26-xJ"
      },
      "outputs": [],
      "source": [
        "losses,W,b = BinarylogRegClassifier(X_train,y_train,1000) #Training with 1000 epochs"
      ]
    },
    {
      "cell_type": "code",
      "execution_count": null,
      "metadata": {
        "id": "FGxcU3cp-4xc"
      },
      "outputs": [],
      "source": [
        "losses = np.asarray(losses)"
      ]
    },
    {
      "cell_type": "code",
      "execution_count": null,
      "metadata": {
        "id": "lxX8cvmZ-40i"
      },
      "outputs": [],
      "source": [
        "losses"
      ]
    },
    {
      "cell_type": "code",
      "execution_count": null,
      "metadata": {
        "id": "SoXnbON--43Z"
      },
      "outputs": [],
      "source": [
        "epochs = losses[:,0]\n",
        "loss = losses[:,1]"
      ]
    },
    {
      "cell_type": "code",
      "execution_count": null,
      "metadata": {
        "colab": {
          "base_uri": "https://localhost:8080/",
          "height": 295
        },
        "id": "At0RxHt5-46h",
        "outputId": "2086efb2-896c-444f-8af9-92763d160b2e"
      },
      "outputs": [
        {
          "data": {
            "image/png": "[encoded data removed]",
            "text/plain": [
              "<Figure size 432x288 with 1 Axes>"
            ]
          },
          "metadata": {
            "needs_background": "light"
          },
          "output_type": "display_data"
        }
      ],
      "source": [
        "plt.plot(epochs,loss)\n",
        "plt.xlabel('Epochs')\n",
        "plt.ylabel('Loss')\n",
        "plt.title(\"Epochs vs Loss\")\n",
        "plt.show()"
      ]
    },
    {
      "cell_type": "code",
      "execution_count": null,
      "metadata": {
        "id": "utU6hcuu_HNr"
      },
      "outputs": [],
      "source": [
        "def accuracyCalculator(y,y_hat):\n",
        "  summ = 0\n",
        "  for i in range(len(y)):\n",
        "    if(y[i]==y_hat[i]):\n",
        "      summ += 1\n",
        "  accuracy = summ/len(y)\n",
        "  return accuracy"
      ]
    },
    {
      "cell_type": "code",
      "execution_count": null,
      "metadata": {
        "id": "MlYTJkDmLQVr"
      },
      "outputs": [],
      "source": [
        "predictions_train = predict(X_train,W,b)"
      ]
    },
    {
      "cell_type": "code",
      "execution_count": null,
      "metadata": {
        "id": "eGgd6glP_HQe"
      },
      "outputs": [],
      "source": [
        "predictions_testset = predict(X_test,W,b)"
      ]
    },
    {
      "cell_type": "code",
      "execution_count": null,
      "metadata": {
        "id": "m4F14KEGKhM_"
      },
      "outputs": [],
      "source": [
        "predictions_val = predict(X_val,W,b)"
      ]
    },
    {
      "cell_type": "code",
      "execution_count": null,
      "metadata": {
        "id": "gdkM_B7FLU-j"
      },
      "outputs": [],
      "source": [
        "predictions_train"
      ]
    },
    {
      "cell_type": "code",
      "execution_count": null,
      "metadata": {
        "id": "8IjjRoaN_HTW"
      },
      "outputs": [],
      "source": [
        "predictions_testset"
      ]
    },
    {
      "cell_type": "code",
      "execution_count": null,
      "metadata": {
        "id": "aB3o28DvKnLS"
      },
      "outputs": [],
      "source": [
        "predictions_val"
      ]
    },
    {
      "cell_type": "code",
      "execution_count": null,
      "metadata": {
        "colab": {
          "base_uri": "https://localhost:8080/"
        },
        "id": "4N4nZcxnLYex",
        "outputId": "2cc34ac2-ec6d-411c-d551-3383049f8204"
      },
      "outputs": [
        {
          "data": {
            "text/plain": [
              "0.7857142857142857"
            ]
          },
          "execution_count": 148,
          "metadata": {},
          "output_type": "execute_result"
        }
      ],
      "source": [
        "accuracyCalculator(y_train,predictions_train)"
      ]
    },
    {
      "cell_type": "code",
      "execution_count": null,
      "metadata": {
        "colab": {
          "base_uri": "https://localhost:8080/"
        },
        "id": "TCRNeyKb_HWv",
        "outputId": "58ff017b-87f9-49e1-ac59-ee604684e462"
      },
      "outputs": [
        {
          "data": {
            "text/plain": [
              "0.8071428571428572"
            ]
          },
          "execution_count": 149,
          "metadata": {},
          "output_type": "execute_result"
        }
      ],
      "source": [
        "accuracyCalculator(y_test,predictions_testset)"
      ]
    },
    {
      "cell_type": "code",
      "execution_count": null,
      "metadata": {
        "colab": {
          "base_uri": "https://localhost:8080/"
        },
        "id": "cpz13696Ks8C",
        "outputId": "4329a4f4-fcaf-4779-8666-4bbdc8059408"
      },
      "outputs": [
        {
          "data": {
            "text/plain": [
              "0.8142857142857143"
            ]
          },
          "execution_count": 150,
          "metadata": {},
          "output_type": "execute_result"
        }
      ],
      "source": [
        "accuracyCalculator(y_val,predictions_val)"
      ]
    },
    {
      "cell_type": "code",
      "execution_count": null,
      "metadata": {
        "id": "xz7Z8MahHJaV"
      },
      "outputs": [],
      "source": [
        "import sklearn.metrics"
      ]
    },
    {
      "cell_type": "markdown",
      "metadata": {
        "id": "2Xbx2y16NIdP"
      },
      "source": [
        "**f1 Scores**:"
      ]
    },
    {
      "cell_type": "code",
      "execution_count": null,
      "metadata": {
        "colab": {
          "base_uri": "https://localhost:8080/"
        },
        "id": "PwXCgUzALdcf",
        "outputId": "48a65cbf-bcac-413d-cc3c-86d4fa78ad6e"
      },
      "outputs": [
        {
          "data": {
            "text/plain": [
              "0.7999999999999999"
            ]
          },
          "execution_count": 153,
          "metadata": {},
          "output_type": "execute_result"
        }
      ],
      "source": [
        "sklearn.metrics.f1_score(y_train, predictions_train) #f1 score for train set"
      ]
    },
    {
      "cell_type": "code",
      "execution_count": null,
      "metadata": {
        "colab": {
          "base_uri": "https://localhost:8080/"
        },
        "id": "nUkngtPUHJj7",
        "outputId": "b62adc2e-b748-4584-e32d-690bbf277fc4"
      },
      "outputs": [
        {
          "data": {
            "text/plain": [
              "0.823529411764706"
            ]
          },
          "execution_count": 154,
          "metadata": {},
          "output_type": "execute_result"
        }
      ],
      "source": [
        "sklearn.metrics.f1_score(y_test, predictions_testset) #f1 score for test set"
      ]
    },
    {
      "cell_type": "code",
      "execution_count": null,
      "metadata": {
        "colab": {
          "base_uri": "https://localhost:8080/"
        },
        "id": "OJNyBCgsHJnG",
        "outputId": "f0030406-21ff-4ead-e3ee-18090aae0a9d"
      },
      "outputs": [
        {
          "data": {
            "text/plain": [
              "0.8194444444444444"
            ]
          },
          "execution_count": 155,
          "metadata": {},
          "output_type": "execute_result"
        }
      ],
      "source": [
        "sklearn.metrics.f1_score(y_val, predictions_val)#f1 score for validation set"
      ]
    }
  ],
  "metadata": {
    "colab": {
      "collapsed_sections": [],
      "name": "200699_P8_Assgn1.ipynb",
      "provenance": []
    },
    "kernelspec": {
      "display_name": "Python 3",
      "name": "python3"
    },
    "language_info": {
      "name": "python"
    }
  },
  "nbformat": 4,
  "nbformat_minor": 0
}
